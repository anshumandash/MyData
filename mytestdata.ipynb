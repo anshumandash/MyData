#import libraries
import numpy as np
import pandas as pd
#create a dataset as Pandas dataframe
raw_data = {'name': ['x', 'y', 'z']}
print(raw_data)
#df1 = pd.DatFrame(dict, columns)
